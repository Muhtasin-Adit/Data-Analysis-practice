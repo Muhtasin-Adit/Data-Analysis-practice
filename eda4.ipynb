{
 "cells": [
  {
   "cell_type": "code",
   "execution_count": 1,
   "metadata": {},
   "outputs": [],
   "source": [
    "import numpy as np \n",
    "import pandas as pd "
   ]
  },
  {
   "cell_type": "code",
   "execution_count": 2,
   "metadata": {},
   "outputs": [],
   "source": [
    "cricketers = {'Name':['Virat', 'Rohit', 'Babar', 'Boult', 'bumrah', 'Mujeeb', 'Nabi', 'Strokes'],\n",
    "            'Age': [31,33,25,31,26,19,35,29],\n",
    "            'Grade':['Best', 'Better', 'Good', 'Best', 'Better', 'Good', 'Best', 'Better'],\n",
    "            'Role':['Batsman', 'Batsman', 'Batsman', 'Bowler', 'Bowler', 'Bowler', 'All-Rounder', 'All-Rounder'],\n",
    "            'Rating':[971,855,829,722,719,701,301,285],\n",
    "            'Country':['IND', 'IND', 'PAK', 'NZ', 'IND', 'AFG', 'AFG', 'ENG']}"
   ]
  },
  {
   "cell_type": "code",
   "execution_count": 3,
   "metadata": {},
   "outputs": [],
   "source": [
    "cricketers = pd.DataFrame(cricketers)"
   ]
  },
  {
   "cell_type": "markdown",
   "metadata": {},
   "source": [
    "To handle categorical data, we can use OneHotEncoding and make it more feasible for the machine learning model to train on the categorical data."
   ]
  },
  {
   "cell_type": "code",
   "execution_count": 4,
   "metadata": {},
   "outputs": [
    {
     "name": "stdout",
     "output_type": "stream",
     "text": [
      "      Name  Age   Grade         Role  Rating Country\n",
      "0    Virat   31    Best      Batsman     971     IND\n",
      "1    Rohit   33  Better      Batsman     855     IND\n",
      "2    Babar   25    Good      Batsman     829     PAK\n",
      "3    Boult   31    Best       Bowler     722      NZ\n",
      "4   bumrah   26  Better       Bowler     719     IND\n",
      "5   Mujeeb   19    Good       Bowler     701     AFG\n",
      "6     Nabi   35    Best  All-Rounder     301     AFG\n",
      "7  Strokes   29  Better  All-Rounder     285     ENG\n"
     ]
    }
   ],
   "source": [
    "print(cricketers)"
   ]
  },
  {
   "cell_type": "markdown",
   "metadata": {},
   "source": [
    "We are creating dummy columns first and then inserting true value according to the categorical values."
   ]
  },
  {
   "cell_type": "code",
   "execution_count": 5,
   "metadata": {},
   "outputs": [
    {
     "name": "stdout",
     "output_type": "stream",
     "text": [
      "   Grade_Best  Grade_Better  Grade_Good  Role_All-Rounder  Role_Batsman  \\\n",
      "0           1             0           0                 0             1   \n",
      "1           0             1           0                 0             1   \n",
      "2           0             0           1                 0             1   \n",
      "3           1             0           0                 0             0   \n",
      "4           0             1           0                 0             0   \n",
      "5           0             0           1                 0             0   \n",
      "6           1             0           0                 1             0   \n",
      "7           0             1           0                 1             0   \n",
      "\n",
      "   Role_Bowler  Country_AFG  Country_ENG  Country_IND  Country_NZ  Country_PAK  \n",
      "0            0            0            0            1           0            0  \n",
      "1            0            0            0            1           0            0  \n",
      "2            0            0            0            0           0            1  \n",
      "3            1            0            0            0           1            0  \n",
      "4            1            0            0            1           0            0  \n",
      "5            1            1            0            0           0            0  \n",
      "6            0            1            0            0           0            0  \n",
      "7            0            0            1            0           0            0  \n"
     ]
    }
   ],
   "source": [
    "columns = ['Grade', 'Role', 'Country']\n",
    "dummyData = pd.get_dummies(cricketers[columns])\n",
    "print(dummyData)"
   ]
  },
  {
   "cell_type": "markdown",
   "metadata": {},
   "source": [
    "Concatenating the original dataframe and the dummy columns that we've created."
   ]
  },
  {
   "cell_type": "code",
   "execution_count": 6,
   "metadata": {},
   "outputs": [
    {
     "name": "stdout",
     "output_type": "stream",
     "text": [
      "      Name  Age   Grade         Role  Rating Country  Grade_Best  \\\n",
      "0    Virat   31    Best      Batsman     971     IND           1   \n",
      "1    Rohit   33  Better      Batsman     855     IND           0   \n",
      "2    Babar   25    Good      Batsman     829     PAK           0   \n",
      "3    Boult   31    Best       Bowler     722      NZ           1   \n",
      "4   bumrah   26  Better       Bowler     719     IND           0   \n",
      "5   Mujeeb   19    Good       Bowler     701     AFG           0   \n",
      "6     Nabi   35    Best  All-Rounder     301     AFG           1   \n",
      "7  Strokes   29  Better  All-Rounder     285     ENG           0   \n",
      "\n",
      "   Grade_Better  Grade_Good  Role_All-Rounder  Role_Batsman  Role_Bowler  \\\n",
      "0             0           0                 0             1            0   \n",
      "1             1           0                 0             1            0   \n",
      "2             0           1                 0             1            0   \n",
      "3             0           0                 0             0            1   \n",
      "4             1           0                 0             0            1   \n",
      "5             0           1                 0             0            1   \n",
      "6             0           0                 1             0            0   \n",
      "7             1           0                 1             0            0   \n",
      "\n",
      "   Country_AFG  Country_ENG  Country_IND  Country_NZ  Country_PAK  \n",
      "0            0            0            1           0            0  \n",
      "1            0            0            1           0            0  \n",
      "2            0            0            0           0            1  \n",
      "3            0            0            0           1            0  \n",
      "4            0            0            1           0            0  \n",
      "5            1            0            0           0            0  \n",
      "6            1            0            0           0            0  \n",
      "7            0            1            0           0            0  \n"
     ]
    }
   ],
   "source": [
    "cricketers = pd.concat([cricketers, dummyData], axis=1)\n",
    "print(cricketers)"
   ]
  },
  {
   "cell_type": "markdown",
   "metadata": {},
   "source": [
    "Dropping the old columns that had  categorical data."
   ]
  },
  {
   "cell_type": "code",
   "execution_count": 7,
   "metadata": {},
   "outputs": [
    {
     "name": "stdout",
     "output_type": "stream",
     "text": [
      "      Name  Age  Rating  Grade_Best  Grade_Better  Grade_Good  \\\n",
      "0    Virat   31     971           1             0           0   \n",
      "1    Rohit   33     855           0             1           0   \n",
      "2    Babar   25     829           0             0           1   \n",
      "3    Boult   31     722           1             0           0   \n",
      "4   bumrah   26     719           0             1           0   \n",
      "5   Mujeeb   19     701           0             0           1   \n",
      "6     Nabi   35     301           1             0           0   \n",
      "7  Strokes   29     285           0             1           0   \n",
      "\n",
      "   Role_All-Rounder  Role_Batsman  Role_Bowler  Country_AFG  Country_ENG  \\\n",
      "0                 0             1            0            0            0   \n",
      "1                 0             1            0            0            0   \n",
      "2                 0             1            0            0            0   \n",
      "3                 0             0            1            0            0   \n",
      "4                 0             0            1            0            0   \n",
      "5                 0             0            1            1            0   \n",
      "6                 1             0            0            1            0   \n",
      "7                 1             0            0            0            1   \n",
      "\n",
      "   Country_IND  Country_NZ  Country_PAK  \n",
      "0            1           0            0  \n",
      "1            1           0            0  \n",
      "2            0           0            1  \n",
      "3            0           1            0  \n",
      "4            1           0            0  \n",
      "5            0           0            0  \n",
      "6            0           0            0  \n",
      "7            0           0            0  \n"
     ]
    }
   ],
   "source": [
    "cricketers = cricketers.drop(['Grade', 'Role', 'Country'],axis= 1)\n",
    "print(cricketers)"
   ]
  },
  {
   "cell_type": "code",
   "execution_count": null,
   "metadata": {},
   "outputs": [],
   "source": []
  }
 ],
 "metadata": {
  "kernelspec": {
   "display_name": "Python 3",
   "language": "python",
   "name": "python3"
  },
  "language_info": {
   "codemirror_mode": {
    "name": "ipython",
    "version": 3
   },
   "file_extension": ".py",
   "mimetype": "text/x-python",
   "name": "python",
   "nbconvert_exporter": "python",
   "pygments_lexer": "ipython3",
   "version": "3.10.5"
  },
  "orig_nbformat": 4
 },
 "nbformat": 4,
 "nbformat_minor": 2
}
