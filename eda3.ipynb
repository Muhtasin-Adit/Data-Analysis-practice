{
 "cells": [
  {
   "cell_type": "code",
   "execution_count": 1,
   "metadata": {},
   "outputs": [],
   "source": [
    "import numpy as np \n",
    "import pandas as pd "
   ]
  },
  {
   "cell_type": "code",
   "execution_count": 2,
   "metadata": {},
   "outputs": [],
   "source": [
    "cricketers = {'Name':['Virat', 'Rohit', 'Babar', 'Boult', 'bumrah', 'Mujeeb', 'Nabi', 'Strokes'],\n",
    "            'Age': [31,33,25,31,26,19,35,29],\n",
    "            'Grade':['Best', 'Better', 'Good', 'Best', 'Better', 'Good', 'Best', 'Better'],\n",
    "            'Role':['Batsman', 'Batsman', 'Batsman', 'Bowler', 'Bowler', 'Bowler', 'All-Rounder', 'All-Rounder'],\n",
    "            'Rating':[971,855,829,722,719,701,301,285],\n",
    "            'Country':['IND', 'IND', 'PAK', 'NZ', 'IND', 'AFG', 'AFG', 'ENG']}"
   ]
  },
  {
   "cell_type": "code",
   "execution_count": 3,
   "metadata": {},
   "outputs": [
    {
     "name": "stdout",
     "output_type": "stream",
     "text": [
      "      Name  Age   Grade         Role  Rating Country\n",
      "0    Virat   31    Best      Batsman     971     IND\n",
      "1    Rohit   33  Better      Batsman     855     IND\n",
      "2    Babar   25    Good      Batsman     829     PAK\n",
      "3    Boult   31    Best       Bowler     722      NZ\n",
      "4   bumrah   26  Better       Bowler     719     IND\n",
      "5   Mujeeb   19    Good       Bowler     701     AFG\n",
      "6     Nabi   35    Best  All-Rounder     301     AFG\n",
      "7  Strokes   29  Better  All-Rounder     285     ENG\n"
     ]
    }
   ],
   "source": [
    "cricketers = pd.DataFrame(cricketers)\n",
    "cricketers2 = cricketers\n",
    "cricketers3 = cricketers\n",
    "print(cricketers)"
   ]
  },
  {
   "cell_type": "markdown",
   "metadata": {},
   "source": [
    "We will now provide a datamapping for all the columns but the 'name' with ordinal data."
   ]
  },
  {
   "cell_type": "code",
   "execution_count": 4,
   "metadata": {},
   "outputs": [],
   "source": [
    "dm_Grade = {'Best': 3, 'Better':2,'Good':1}\n",
    "dm_Role = {'Batsman':1, 'Bowler':2, 'All-Rounder':3}\n",
    "dm_Country  = {'IND':1,'PAK':2,'NZ':3,'AFG':4,'ENG':5}"
   ]
  },
  {
   "cell_type": "code",
   "execution_count": 5,
   "metadata": {},
   "outputs": [],
   "source": [
    "cricketers['Grade'] = cricketers['Grade'].map(dm_Grade)\n",
    "cricketers['Role'] = cricketers['Role'].map(dm_Role)\n",
    "cricketers['Country'] = cricketers['Country'].map(dm_Country)"
   ]
  },
  {
   "cell_type": "code",
   "execution_count": 6,
   "metadata": {},
   "outputs": [
    {
     "name": "stdout",
     "output_type": "stream",
     "text": [
      "      Name  Age  Grade  Role  Rating  Country\n",
      "0    Virat   31      3     1     971        1\n",
      "1    Rohit   33      2     1     855        1\n",
      "2    Babar   25      1     1     829        2\n",
      "3    Boult   31      3     2     722        3\n",
      "4   bumrah   26      2     2     719        1\n",
      "5   Mujeeb   19      1     2     701        4\n",
      "6     Nabi   35      3     3     301        4\n",
      "7  Strokes   29      2     3     285        5\n"
     ]
    }
   ],
   "source": [
    "print(cricketers)"
   ]
  },
  {
   "cell_type": "markdown",
   "metadata": {},
   "source": [
    "Data binning"
   ]
  },
  {
   "cell_type": "code",
   "execution_count": 7,
   "metadata": {},
   "outputs": [
    {
     "name": "stdout",
     "output_type": "stream",
     "text": [
      "      Name  Age  Grade  Role  Rating  Country\n",
      "0    Virat   31      3     1     971        1\n",
      "1    Rohit   33      2     1     855        1\n",
      "2    Babar   25      1     1     829        2\n",
      "3    Boult   31      3     2     722        3\n",
      "4   bumrah   26      2     2     719        1\n",
      "5   Mujeeb   19      1     2     701        4\n",
      "6     Nabi   35      3     3     301        4\n",
      "7  Strokes   29      2     3     285        5\n"
     ]
    }
   ],
   "source": [
    "print(cricketers2)"
   ]
  },
  {
   "cell_type": "markdown",
   "metadata": {},
   "source": [
    "Lets's build a function that will take inputs for binning columns."
   ]
  },
  {
   "cell_type": "code",
   "execution_count": 8,
   "metadata": {},
   "outputs": [],
   "source": [
    "def binningFunction(col,cut_points,labels=None):\n",
    "    min = col.min()        #Saving the minimum value in the 'Age' column in min var\n",
    "    max = col.max()         #Saving the maximum value in the 'Age' column in max var\n",
    "    break_points = [min] + cut_points + [max]   #putting min and max var in [] makes it concatenate with the values provided according to cut_points \n",
    "    print(break_points)         #printing the intervals of values\n",
    "\n",
    "    if not labels:\n",
    "        labels = range(len(cut_points)+1)  #incase the labels are not provided, it will provide the labels by default as integers l;ike 0, 1, 2\n",
    "    \n",
    "    colBin = pd.cut(col, bins= break_points, labels=labels, include_lowest=True)\n",
    "    return colBin"
   ]
  },
  {
   "cell_type": "code",
   "execution_count": 9,
   "metadata": {},
   "outputs": [
    {
     "name": "stdout",
     "output_type": "stream",
     "text": [
      "[19, 25, 30, 35]\n",
      "      Name  Age  Grade  Role  Rating  Country  Exp_category\n",
      "0    Virat   31      3     1     971        1  Super_senior\n",
      "1    Rohit   33      2     1     855        1  Super_senior\n",
      "2    Babar   25      1     1     829        2         Young\n",
      "3    Boult   31      3     2     722        3  Super_senior\n",
      "4   bumrah   26      2     2     719        1        Senior\n",
      "5   Mujeeb   19      1     2     701        4         Young\n",
      "6     Nabi   35      3     3     301        4  Super_senior\n",
      "7  Strokes   29      2     3     285        5        Senior\n"
     ]
    }
   ],
   "source": [
    "cut_points = [25,30]\n",
    "labels = [\"Young\", \"Senior\", \"Super_senior\"]\n",
    "cricketers2['Exp_category'] = binningFunction(cricketers2['Age'], cut_points, labels)\n",
    "print(cricketers2)"
   ]
  },
  {
   "cell_type": "code",
   "execution_count": null,
   "metadata": {},
   "outputs": [],
   "source": []
  },
  {
   "cell_type": "code",
   "execution_count": null,
   "metadata": {},
   "outputs": [],
   "source": []
  }
 ],
 "metadata": {
  "kernelspec": {
   "display_name": "Python 3",
   "language": "python",
   "name": "python3"
  },
  "language_info": {
   "codemirror_mode": {
    "name": "ipython",
    "version": 3
   },
   "file_extension": ".py",
   "mimetype": "text/x-python",
   "name": "python",
   "nbconvert_exporter": "python",
   "pygments_lexer": "ipython3",
   "version": "3.10.5"
  },
  "orig_nbformat": 4
 },
 "nbformat": 4,
 "nbformat_minor": 2
}
