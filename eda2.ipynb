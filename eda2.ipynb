{
 "cells": [
  {
   "cell_type": "code",
   "execution_count": 1,
   "metadata": {},
   "outputs": [],
   "source": [
    "import numpy as np \n",
    "import pandas as pd \n",
    "import matplotlib.pyplot as plt "
   ]
  },
  {
   "cell_type": "code",
   "execution_count": 2,
   "metadata": {},
   "outputs": [
    {
     "name": "stdout",
     "output_type": "stream",
     "text": [
      "         City   Age   Salary Eligibility for bonus\n",
      "0      Mumbai  27.0  51000.0                   Yes\n",
      "1    New York  27.0  48000.0                   Yes\n",
      "2      Mumbai  65.0  52000.0                    No\n",
      "3    New York   NaN  66000.0                    No\n",
      "4       Tokyo  48.0      NaN                   Yes\n",
      "5       Tokyo   NaN  51000.0                    No\n",
      "6   Singapore  33.0  69000.0                    No\n",
      "7    New York  40.0  79000.0                   Yes\n",
      "8      Mumbai  38.0      NaN                   Yes\n",
      "9   Singapore  35.0  38000.0                    No\n",
      "10      Tokyo   NaN  56000.0                    No\n",
      "11  Singapore  35.0  72000.0                    No\n",
      "12   New York  16.0  79000.0                   Yes\n",
      "13     Mumbai  31.0  85000.0                   Yes\n"
     ]
    }
   ],
   "source": [
    "d1 = pd.read_csv(\"dataset1.csv\")\n",
    "print(d1)"
   ]
  },
  {
   "cell_type": "code",
   "execution_count": 3,
   "metadata": {},
   "outputs": [
    {
     "data": {
      "text/html": [
       "<div>\n",
       "<style scoped>\n",
       "    .dataframe tbody tr th:only-of-type {\n",
       "        vertical-align: middle;\n",
       "    }\n",
       "\n",
       "    .dataframe tbody tr th {\n",
       "        vertical-align: top;\n",
       "    }\n",
       "\n",
       "    .dataframe thead th {\n",
       "        text-align: right;\n",
       "    }\n",
       "</style>\n",
       "<table border=\"1\" class=\"dataframe\">\n",
       "  <thead>\n",
       "    <tr style=\"text-align: right;\">\n",
       "      <th></th>\n",
       "      <th>Age</th>\n",
       "      <th>Salary</th>\n",
       "    </tr>\n",
       "  </thead>\n",
       "  <tbody>\n",
       "    <tr>\n",
       "      <th>count</th>\n",
       "      <td>11.000000</td>\n",
       "      <td>12.000000</td>\n",
       "    </tr>\n",
       "    <tr>\n",
       "      <th>mean</th>\n",
       "      <td>35.909091</td>\n",
       "      <td>62166.666667</td>\n",
       "    </tr>\n",
       "    <tr>\n",
       "      <th>std</th>\n",
       "      <td>12.660605</td>\n",
       "      <td>14837.503670</td>\n",
       "    </tr>\n",
       "    <tr>\n",
       "      <th>min</th>\n",
       "      <td>16.000000</td>\n",
       "      <td>38000.000000</td>\n",
       "    </tr>\n",
       "    <tr>\n",
       "      <th>25%</th>\n",
       "      <td>29.000000</td>\n",
       "      <td>51000.000000</td>\n",
       "    </tr>\n",
       "    <tr>\n",
       "      <th>50%</th>\n",
       "      <td>35.000000</td>\n",
       "      <td>61000.000000</td>\n",
       "    </tr>\n",
       "    <tr>\n",
       "      <th>75%</th>\n",
       "      <td>39.000000</td>\n",
       "      <td>73750.000000</td>\n",
       "    </tr>\n",
       "    <tr>\n",
       "      <th>max</th>\n",
       "      <td>65.000000</td>\n",
       "      <td>85000.000000</td>\n",
       "    </tr>\n",
       "  </tbody>\n",
       "</table>\n",
       "</div>"
      ],
      "text/plain": [
       "             Age        Salary\n",
       "count  11.000000     12.000000\n",
       "mean   35.909091  62166.666667\n",
       "std    12.660605  14837.503670\n",
       "min    16.000000  38000.000000\n",
       "25%    29.000000  51000.000000\n",
       "50%    35.000000  61000.000000\n",
       "75%    39.000000  73750.000000\n",
       "max    65.000000  85000.000000"
      ]
     },
     "execution_count": 3,
     "metadata": {},
     "output_type": "execute_result"
    }
   ],
   "source": [
    "d1.describe()"
   ]
  },
  {
   "cell_type": "code",
   "execution_count": 4,
   "metadata": {},
   "outputs": [
    {
     "data": {
      "image/png": "[encoded data removed]",
      "text/plain": [
       "<Figure size 432x288 with 1 Axes>"
      ]
     },
     "metadata": {
      "needs_background": "light"
     },
     "output_type": "display_data"
    }
   ],
   "source": [
    "plt.hist(d1['Age'], bins=13)\n",
    "plt.show()"
   ]
  },
  {
   "cell_type": "markdown",
   "metadata": {},
   "source": [
    "As we can see, there are some unexpected values because of which the results from this dataset can become bad. So, we need to get rid of them."
   ]
  },
  {
   "cell_type": "markdown",
   "metadata": {},
   "source": [
    "We are using quantile in this case."
   ]
  },
  {
   "cell_type": "code",
   "execution_count": 5,
   "metadata": {},
   "outputs": [
    {
     "name": "stdout",
     "output_type": "stream",
     "text": [
      "21.5\n",
      "56.5\n"
     ]
    }
   ],
   "source": [
    "lower = d1['Age'].quantile(0.05)\n",
    "print(lower)\n",
    "higher = d1['Age'].quantile(0.95)\n",
    "print(higher)"
   ]
  },
  {
   "cell_type": "markdown",
   "metadata": {},
   "source": [
    "Thus handled the outliers in this particular dataset."
   ]
  },
  {
   "cell_type": "code",
   "execution_count": 6,
   "metadata": {},
   "outputs": [
    {
     "name": "stdout",
     "output_type": "stream",
     "text": [
      "         City   Age   Salary Eligibility for bonus\n",
      "0      Mumbai  27.0  51000.0                   Yes\n",
      "1    New York  27.0  48000.0                   Yes\n",
      "4       Tokyo  48.0      NaN                   Yes\n",
      "6   Singapore  33.0  69000.0                    No\n",
      "7    New York  40.0  79000.0                   Yes\n",
      "8      Mumbai  38.0      NaN                   Yes\n",
      "9   Singapore  35.0  38000.0                    No\n",
      "11  Singapore  35.0  72000.0                    No\n",
      "13     Mumbai  31.0  85000.0                   Yes\n"
     ]
    }
   ],
   "source": [
    "d1 = d1[(d1['Age']>lower)&(d1['Age']< higher)]\n",
    "print(d1)"
   ]
  },
  {
   "cell_type": "code",
   "execution_count": null,
   "metadata": {},
   "outputs": [],
   "source": []
  }
 ],
 "metadata": {
  "kernelspec": {
   "display_name": "Python 3",
   "language": "python",
   "name": "python3"
  },
  "language_info": {
   "codemirror_mode": {
    "name": "ipython",
    "version": 3
   },
   "file_extension": ".py",
   "mimetype": "text/x-python",
   "name": "python",
   "nbconvert_exporter": "python",
   "pygments_lexer": "ipython3",
   "version": "3.10.5"
  },
  "orig_nbformat": 4
 },
 "nbformat": 4,
 "nbformat_minor": 2
}
