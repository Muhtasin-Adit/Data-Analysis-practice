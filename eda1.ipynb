{
 "cells": [
  {
   "cell_type": "code",
   "execution_count": 50,
   "metadata": {},
   "outputs": [],
   "source": [
    "import numpy as np \n",
    "import pandas as pd \n",
    "from sklearn.impute import SimpleImputer"
   ]
  },
  {
   "cell_type": "code",
   "execution_count": 51,
   "metadata": {},
   "outputs": [],
   "source": [
    "d1 = pd.read_csv('dataset1.csv')"
   ]
  },
  {
   "cell_type": "code",
   "execution_count": 52,
   "metadata": {},
   "outputs": [
    {
     "name": "stdout",
     "output_type": "stream",
     "text": [
      "         Index        Age        Salary\n",
      "count  14.0000  11.000000     12.000000\n",
      "mean    6.5000  35.363636  62166.666667\n",
      "std     4.1833   6.888726  14837.503670\n",
      "min     0.0000  27.000000  38000.000000\n",
      "25%     3.2500  30.500000  51000.000000\n",
      "50%     6.5000  35.000000  61000.000000\n",
      "75%     9.7500  39.000000  73750.000000\n",
      "max    13.0000  48.000000  85000.000000\n"
     ]
    }
   ],
   "source": [
    "print(d1.describe())"
   ]
  },
  {
   "cell_type": "markdown",
   "metadata": {},
   "source": [
    "Create dependent and independent vairable vectors"
   ]
  },
  {
   "cell_type": "code",
   "execution_count": 53,
   "metadata": {},
   "outputs": [],
   "source": [
    "x = d1.iloc[:,:-1].values"
   ]
  },
  {
   "cell_type": "code",
   "execution_count": 54,
   "metadata": {},
   "outputs": [],
   "source": [
    "y = d1.iloc[:,-1].values"
   ]
  },
  {
   "cell_type": "code",
   "execution_count": 55,
   "metadata": {},
   "outputs": [
    {
     "name": "stdout",
     "output_type": "stream",
     "text": [
      "[[0 'Mumbai' 27.0 51000.0]\n",
      " [1 'New York' 27.0 48000.0]\n",
      " [2 'Mumbai' 30.0 52000.0]\n",
      " [3 'New York' nan 66000.0]\n",
      " [4 'Tokyo' 48.0 nan]\n",
      " [5 'Tokyo' nan 51000.0]\n",
      " [6 'Singapore' 33.0 69000.0]\n",
      " [7 'New York' 40.0 79000.0]\n",
      " [8 'Mumbai' 38.0 nan]\n",
      " [9 'Singapore' 35.0 38000.0]\n",
      " [10 'Tokyo' nan 56000.0]\n",
      " [11 'Singapore' 35.0 72000.0]\n",
      " [12 'New York' 45.0 79000.0]\n",
      " [13 'Mumbai' 31.0 85000.0]]\n"
     ]
    }
   ],
   "source": [
    "print(x)"
   ]
  },
  {
   "cell_type": "code",
   "execution_count": 56,
   "metadata": {},
   "outputs": [
    {
     "name": "stdout",
     "output_type": "stream",
     "text": [
      "['Yes' 'Yes' 'No' 'No' 'Yes' 'No' 'No' 'Yes' 'Yes' 'No' 'No' 'No' 'yes'\n",
      " 'yes']\n"
     ]
    }
   ],
   "source": [
    "print(y)"
   ]
  },
  {
   "cell_type": "code",
   "execution_count": 57,
   "metadata": {},
   "outputs": [
    {
     "name": "stdout",
     "output_type": "stream",
     "text": [
      "Index                    0\n",
      "City                     0\n",
      "Age                      3\n",
      "Salary                   2\n",
      "Eligibility for bonus    0\n",
      "dtype: int64\n"
     ]
    }
   ],
   "source": [
    "print(d1.isnull().sum())"
   ]
  },
  {
   "cell_type": "code",
   "execution_count": 58,
   "metadata": {},
   "outputs": [],
   "source": [
    "d1.dropna(inplace=True)"
   ]
  },
  {
   "cell_type": "code",
   "execution_count": 59,
   "metadata": {},
   "outputs": [
    {
     "name": "stdout",
     "output_type": "stream",
     "text": [
      "    Index       City   Age   Salary Eligibility for bonus\n",
      "0       0     Mumbai  27.0  51000.0                   Yes\n",
      "1       1   New York  27.0  48000.0                   Yes\n",
      "2       2     Mumbai  30.0  52000.0                    No\n",
      "6       6  Singapore  33.0  69000.0                    No\n",
      "7       7   New York  40.0  79000.0                   Yes\n",
      "9       9  Singapore  35.0  38000.0                    No\n",
      "11     11  Singapore  35.0  72000.0                    No\n",
      "12     12   New York  45.0  79000.0                   yes\n",
      "13     13     Mumbai  31.0  85000.0                   yes\n"
     ]
    }
   ],
   "source": [
    "print(d1)"
   ]
  },
  {
   "cell_type": "code",
   "execution_count": 60,
   "metadata": {},
   "outputs": [],
   "source": [
    "imputer = SimpleImputer(missing_values=np.NaN, strategy='mean')\n"
   ]
  },
  {
   "cell_type": "code",
   "execution_count": 66,
   "metadata": {},
   "outputs": [],
   "source": [
    "imputer.fit(x[:, 2:4])\n",
    "x[:,2:4] = imputer.transform(x[:,2:4])"
   ]
  },
  {
   "cell_type": "code",
   "execution_count": 67,
   "metadata": {},
   "outputs": [
    {
     "name": "stdout",
     "output_type": "stream",
     "text": [
      "[[0 'Mumbai' 27.0 51000.0]\n",
      " [1 'New York' 27.0 48000.0]\n",
      " [2 'Mumbai' 30.0 52000.0]\n",
      " [3 'New York' 35.36363636363637 66000.0]\n",
      " [4 'Tokyo' 48.0 62166.666666666664]\n",
      " [5 'Tokyo' 35.36363636363637 51000.0]\n",
      " [6 'Singapore' 33.0 69000.0]\n",
      " [7 'New York' 40.0 79000.0]\n",
      " [8 'Mumbai' 38.0 62166.666666666664]\n",
      " [9 'Singapore' 35.0 38000.0]\n",
      " [10 'Tokyo' 35.36363636363637 56000.0]\n",
      " [11 'Singapore' 35.0 72000.0]\n",
      " [12 'New York' 45.0 79000.0]\n",
      " [13 'Mumbai' 31.0 85000.0]]\n"
     ]
    }
   ],
   "source": [
    "print(x)"
   ]
  },
  {
   "cell_type": "code",
   "execution_count": null,
   "metadata": {},
   "outputs": [],
   "source": []
  }
 ],
 "metadata": {
  "kernelspec": {
   "display_name": "Python 3",
   "language": "python",
   "name": "python3"
  },
  "language_info": {
   "codemirror_mode": {
    "name": "ipython",
    "version": 3
   },
   "file_extension": ".py",
   "mimetype": "text/x-python",
   "name": "python",
   "nbconvert_exporter": "python",
   "pygments_lexer": "ipython3",
   "version": "3.10.5"
  },
  "orig_nbformat": 4
 },
 "nbformat": 4,
 "nbformat_minor": 2
}
