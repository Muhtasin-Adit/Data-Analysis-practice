{
 "cells": [
  {
   "cell_type": "code",
   "execution_count": 1,
   "metadata": {},
   "outputs": [],
   "source": [
    "import math"
   ]
  },
  {
   "cell_type": "code",
   "execution_count": 3,
   "metadata": {},
   "outputs": [],
   "source": [
    "# matrix addition\n",
    "def matrix_add(x,y):\n",
    "    xrows = len(x)\n",
    "    xcols = len(x[0])\n",
    "    yrows = len(y)\n",
    "    ycols = len(y[0])\n",
    "\n",
    "\n",
    "    if xrows != yrows or xcols != ycols:\n",
    "        print(\"Sum is not defined as the orders of the matrices do not match\")\n",
    "    else:\n",
    "        z = x\n",
    "\n",
    "        for i in range(xrows):\n",
    "            for j in range(xcols):\n",
    "                z[i][j] = z[i][j] + y[i][j]\n",
    "\n",
    "        return z "
   ]
  },
  {
   "cell_type": "code",
   "execution_count": 4,
   "metadata": {},
   "outputs": [
    {
     "data": {
      "text/plain": [
       "[[6, 3, 7], [12, 7, 5]]"
      ]
     },
     "execution_count": 4,
     "metadata": {},
     "output_type": "execute_result"
    }
   ],
   "source": [
    "matrix_add([[1,2,5,],[3,4,1]], [[5,1,2],[9,3,4]])"
   ]
  },
  {
   "cell_type": "code",
   "execution_count": 1,
   "metadata": {},
   "outputs": [],
   "source": [
    "# scalar matrix multiplication\n",
    "\n",
    "def mul(c, X):\n",
    "\n",
    "    xrows = len(X)\n",
    "    xcols = len(X[0])\n",
    "\n",
    "    cX = X \n",
    "\n",
    "    for i in range(xrows):\n",
    "        for j in range(xcols):\n",
    "            cX[i][j] = c*cX[i][j]\n",
    "    return cX "
   ]
  },
  {
   "cell_type": "code",
   "execution_count": 2,
   "metadata": {},
   "outputs": [
    {
     "data": {
      "text/plain": [
       "[[-6, -18, 3], [-6, -24, 0], [-27, -24, -21]]"
      ]
     },
     "execution_count": 2,
     "metadata": {},
     "output_type": "execute_result"
    }
   ],
   "source": [
    "mul(-3, [[2,6,-1],[2,8,0],[9,8,7]])"
   ]
  },
  {
   "cell_type": "code",
   "execution_count": 3,
   "metadata": {},
   "outputs": [],
   "source": [
    "# matrix subtraction\n",
    "\n",
    "def sub(x,y):\n",
    "\n",
    "    xrows = len(x)\n",
    "    xcols = len(x[0])\n",
    "    yrows = len(y)\n",
    "    ycols = len(y[0])\n",
    "\n",
    "\n",
    "    if xrows != yrows or xcols != ycols:\n",
    "        print(\"Subtraction is not defined as the orders of the two matrices are not same\")\n",
    "    else:\n",
    "        z = x\n",
    "\n",
    "        for i in range(xrows):\n",
    "            for j in range(xcols):\n",
    "                z[i][j] = z[i][j] - y[i][j]\n",
    "        return z "
   ]
  },
  {
   "cell_type": "code",
   "execution_count": 4,
   "metadata": {},
   "outputs": [
    {
     "data": {
      "text/plain": [
       "[[0, -1, 1], [-5, 2, -13]]"
      ]
     },
     "execution_count": 4,
     "metadata": {},
     "output_type": "execute_result"
    }
   ],
   "source": [
    "sub([[5,2,3],[3,4,-9]],[[5,3,2],[8,2,4]])"
   ]
  },
  {
   "cell_type": "code",
   "execution_count": 5,
   "metadata": {},
   "outputs": [],
   "source": [
    "# dot multiplication of matrix\n",
    "\n",
    "def dotmul(x,y):\n",
    "    \n",
    "    xrows = len(x)\n",
    "    xcols = len(x[0])\n",
    "    yrows = len(y)\n",
    "    ycols = len(y[0])\n",
    "\n",
    "\n",
    "    \n",
    "    if xcols != yrows:\n",
    "        print(\"Product is not defined\")\n",
    "    else:\n",
    "        z = [[0 for i in range(ycols)] for j in range (xrows)]\n",
    "        for i in range(xrows):\n",
    "            for j in range(ycols):\n",
    "\n",
    "                total = 0\n",
    "                for ii in range(xcols):\n",
    "                    total += x[i][ii] * y[ii][j]\n",
    "                z[i][j] = total\n",
    "        return z \n"
   ]
  },
  {
   "cell_type": "code",
   "execution_count": 7,
   "metadata": {},
   "outputs": [
    {
     "data": {
      "text/plain": [
       "[[28, 32, 25], [52, 20, 25]]"
      ]
     },
     "execution_count": 7,
     "metadata": {},
     "output_type": "execute_result"
    }
   ],
   "source": [
    "dotmul([[1,2,5],[3,4,1]],[[5,1,2],[9,3,4],[1,5,3]])"
   ]
  },
  {
   "cell_type": "code",
   "execution_count": 8,
   "metadata": {},
   "outputs": [],
   "source": [
    "# transpose matrix\n",
    "\n",
    "def transpose(x):\n",
    "    xrows = len(x)\n",
    "    xcols = len(x[0])\n",
    "\n",
    "    z = [[ 0 for i in range(xrows)] for j in range(xcols)]\n",
    "\n",
    "    for i in range(xcols):\n",
    "        for j in range(xrows):\n",
    "            z[i][j] = x[j][i]\n",
    "    return z "
   ]
  },
  {
   "cell_type": "code",
   "execution_count": 9,
   "metadata": {},
   "outputs": [
    {
     "data": {
      "text/plain": [
       "[[1, 3], [2, 5], [5, 4]]"
      ]
     },
     "execution_count": 9,
     "metadata": {},
     "output_type": "execute_result"
    }
   ],
   "source": [
    "transpose([[1,2,5],[3,5,4]])"
   ]
  },
  {
   "cell_type": "code",
   "execution_count": null,
   "metadata": {},
   "outputs": [],
   "source": []
  },
  {
   "cell_type": "code",
   "execution_count": null,
   "metadata": {},
   "outputs": [],
   "source": []
  },
  {
   "cell_type": "code",
   "execution_count": null,
   "metadata": {},
   "outputs": [],
   "source": []
  },
  {
   "cell_type": "code",
   "execution_count": null,
   "metadata": {},
   "outputs": [],
   "source": []
  },
  {
   "cell_type": "code",
   "execution_count": null,
   "metadata": {},
   "outputs": [],
   "source": []
  },
  {
   "cell_type": "code",
   "execution_count": null,
   "metadata": {},
   "outputs": [],
   "source": []
  },
  {
   "cell_type": "code",
   "execution_count": null,
   "metadata": {},
   "outputs": [],
   "source": []
  },
  {
   "cell_type": "code",
   "execution_count": null,
   "metadata": {},
   "outputs": [],
   "source": []
  },
  {
   "cell_type": "code",
   "execution_count": null,
   "metadata": {},
   "outputs": [],
   "source": []
  }
 ],
 "metadata": {
  "kernelspec": {
   "display_name": "Python 3",
   "language": "python",
   "name": "python3"
  },
  "language_info": {
   "codemirror_mode": {
    "name": "ipython",
    "version": 3
   },
   "file_extension": ".py",
   "mimetype": "text/x-python",
   "name": "python",
   "nbconvert_exporter": "python",
   "pygments_lexer": "ipython3",
   "version": "3.10.5"
  },
  "orig_nbformat": 4
 },
 "nbformat": 4,
 "nbformat_minor": 2
}
